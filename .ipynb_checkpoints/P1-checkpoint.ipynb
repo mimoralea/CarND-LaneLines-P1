{
 "cells": [
  {
   "cell_type": "markdown",
   "metadata": {},
   "source": [
    "# **Finding Lane Lines on the Road** \n",
    "***\n",
    "In this project, you will use the tools you learned about in the lesson to identify lane lines on the road.  You can develop your pipeline on a series of individual images, and later apply the result to a video stream (really just a series of images). Check out the video clip \"raw-lines-example.mp4\" (also contained in this repository) to see what the output should look like after using the helper functions below. \n",
    "\n",
    "Once you have a result that looks roughly like \"raw-lines-example.mp4\", you'll need to get creative and try to average and/or extrapolate the line segments you've detected to map out the full extent of the lane lines.  You can see an example of the result you're going for in the video \"P1_example.mp4\".  Ultimately, you would like to draw just one line for the left side of the lane, and one for the right.\n",
    "\n",
    "---\n",
    "Let's have a look at our first image called 'test_images/solidWhiteRight.jpg'.  Run the 2 cells below (hit Shift-Enter or the \"play\" button above) to display the image.\n",
    "\n",
    "**Note** If, at any point, you encounter frozen display windows or other confounding issues, you can always start again with a clean slate by going to the \"Kernel\" menu above and selecting \"Restart & Clear Output\".\n",
    "\n",
    "---"
   ]
  },
  {
   "cell_type": "markdown",
   "metadata": {},
   "source": [
    "**The tools you have are color selection, region of interest selection, grayscaling, Gaussian smoothing, Canny Edge Detection and Hough Tranform line detection.  You  are also free to explore and try other techniques that were not presented in the lesson.  Your goal is piece together a pipeline to detect the line segments in the image, then average/extrapolate them and draw them onto the image for display (as below).  Once you have a working pipeline, try it out on the video stream below.**\n",
    "\n",
    "---\n",
    "\n",
    "<figure>\n",
    " <img src=\"line-segments-example.jpg\" width=\"380\" alt=\"Combined Image\" />\n",
    " <figcaption>\n",
    " <p></p> \n",
    " <p style=\"text-align: center;\"> Your output should look something like this (above) after detecting line segments using the helper functions below </p> \n",
    " </figcaption>\n",
    "</figure>\n",
    " <p></p> \n",
    "<figure>\n",
    " <img src=\"laneLines_thirdPass.jpg\" width=\"380\" alt=\"Combined Image\" />\n",
    " <figcaption>\n",
    " <p></p> \n",
    " <p style=\"text-align: center;\"> Your goal is to connect/average/extrapolate line segments to get output like this</p> \n",
    " </figcaption>\n",
    "</figure>"
   ]
  },
  {
   "cell_type": "code",
   "execution_count": null,
   "metadata": {
    "collapsed": false
   },
   "outputs": [],
   "source": [
    "#importing some useful packages\n",
    "import matplotlib.pyplot as plt\n",
    "import matplotlib.image as mpimg\n",
    "import numpy as np\n",
    "import cv2\n",
    "%matplotlib inline"
   ]
  },
  {
   "cell_type": "code",
   "execution_count": null,
   "metadata": {
    "collapsed": false
   },
   "outputs": [],
   "source": [
    "#reading in an image\n",
    "image = mpimg.imread('test_images/solidWhiteRight.jpg')\n",
    "#printing out some stats and plotting\n",
    "print('This image is:', type(image), 'with dimesions:', image.shape)\n",
    "plt.imshow(image)  #call as plt.imshow(gray, cmap='gray') to show a grayscaled image"
   ]
  },
  {
   "cell_type": "markdown",
   "metadata": {},
   "source": [
    "**Some OpenCV functions (beyond those introduced in the lesson) that might be useful for this project are:**\n",
    "\n",
    "`cv2.inRange()` for color selection  \n",
    "`cv2.fillPoly()` for regions selection  \n",
    "`cv2.line()` to draw lines on an image given endpoints  \n",
    "`cv2.addWeighted()` to coadd / overlay two images\n",
    "`cv2.cvtColor()` to grayscale or change color\n",
    "`cv2.imwrite()` to output images to file  \n",
    "`cv2.bitwise_and()` to apply a mask to an image\n",
    "\n",
    "**Check out the OpenCV documentation to learn about these and discover even more awesome functionality!**"
   ]
  },
  {
   "cell_type": "markdown",
   "metadata": {},
   "source": [
    "Below are some helper functions to help get you started. They should look familiar from the lesson!"
   ]
  },
  {
   "cell_type": "code",
   "execution_count": null,
   "metadata": {
    "collapsed": false
   },
   "outputs": [],
   "source": [
    "import math\n",
    "\n",
    "def grayscale(img):\n",
    "    \"\"\"Applies the Grayscale transform\n",
    "    This will return an image with only one color channel\n",
    "    but NOTE: to see the returned image as grayscale\n",
    "    you should call plt.imshow(gray, cmap='gray')\"\"\"\n",
    "    return cv2.cvtColor(img, cv2.COLOR_BGR2GRAY)\n",
    "    \n",
    "def canny(img, low_threshold, high_threshold):\n",
    "    \"\"\"Applies the Canny transform\"\"\"\n",
    "    return cv2.Canny(img, low_threshold, high_threshold)\n",
    "\n",
    "def gaussian_blur(img, kernel_size):\n",
    "    \"\"\"Applies a Gaussian Noise kernel\"\"\"\n",
    "    return cv2.GaussianBlur(img, (kernel_size, kernel_size), 0)\n",
    "\n",
    "def region_of_interest(img, vertices):\n",
    "    \"\"\"\n",
    "    Applies an image mask.\n",
    "    \n",
    "    Only keeps the region of the image defined by the polygon\n",
    "    formed from `vertices`. The rest of the image is set to black.\n",
    "    \"\"\"\n",
    "    #defining a blank mask to start with\n",
    "    mask = np.zeros_like(img)   \n",
    "    \n",
    "    #defining a 3 channel or 1 channel color to fill the mask with depending on the input image\n",
    "    if len(img.shape) > 2:\n",
    "        channel_count = img.shape[2]  # i.e. 3 or 4 depending on your image\n",
    "        ignore_mask_color = (255,) * channel_count\n",
    "    else:\n",
    "        ignore_mask_color = 255\n",
    "        \n",
    "    #filling pixels inside the polygon defined by \"vertices\" with the fill color    \n",
    "    cv2.fillPoly(mask, vertices, ignore_mask_color)\n",
    "    \n",
    "    #returning the image only where mask pixels are nonzero\n",
    "    masked_image = cv2.bitwise_and(img, mask)\n",
    "    return masked_image\n",
    "\n",
    "\n",
    "def extend_lines(segments, imshape):\n",
    "    for i in range(len(segments)):\n",
    "        segments[i] = extend_line(segments[i], imshape)\n",
    "    return segments\n",
    "\n",
    "\n",
    "def extend_line(segment, imshape):\n",
    "    uppery = imshape[0]/2 + 100\n",
    "    bottomy = imshape[0]\n",
    "\n",
    "    x1, y1, x2, y2 = segment[0]\n",
    "    if x1 == x2:\n",
    "        return np.array([x1, uppery, x2, bottomy], int)\n",
    "    if y1 == y2:\n",
    "        return np.array([x1, 0, x2, imshape[1]], int)\n",
    "\n",
    "    m = (y2-y1)/(x2-x1)\n",
    "    b = y1 - m * x1\n",
    "\n",
    "    # x = (y - b) / m\n",
    "    x1 = (uppery - b) / m\n",
    "    x2 = (bottomy - b) / m\n",
    "    \n",
    "    return np.array([x1, uppery, x2, bottomy], int)\n",
    "\n",
    "\n",
    "def split_left_right(lines):\n",
    "    llines = np.zeros(shape=(0,4))\n",
    "    rlines = np.zeros(shape=(0,4))\n",
    "    \n",
    "    for line in lines:\n",
    "        x1,y1,x2,y2 = line[0]\n",
    "\n",
    "        m = (y2-y1)/(x2-x1)\n",
    "        if m < 0:\n",
    "            # left\n",
    "            llines = np.append(llines, [(x1, y1, x2, y2)], axis = 0)\n",
    "        elif m > 0:\n",
    "            # green ---- right\n",
    "            rlines = np.append(rlines, [(x1, y1, x2, y2)], axis = 0)\n",
    "    return np.expand_dims(llines, axis=1), np.expand_dims(rlines, axis=1)\n",
    "\n",
    "\n",
    "def filter_lines(lines, imshape):\n",
    "    \n",
    "    flines = np.zeros(shape=(0,4))\n",
    "    for line in lines:\n",
    "        x1,y1,x2,y2 = line[0]\n",
    "        x1 = max(0, min(x1, imshape[1]))\n",
    "        x2 = max(0, min(x2, imshape[1]))\n",
    "        y1 = max(0, min(y1, imshape[0]))\n",
    "        y2 = max(0, min(y2, imshape[0]))\n",
    "        \n",
    "        # filter horizontal lines\n",
    "        if y1 == y2:\n",
    "            continue\n",
    "\n",
    "        # filter vertical lines\n",
    "        if x1 == x2:\n",
    "            continue\n",
    "        \n",
    "        # trim left lines\n",
    "        if x1 < 125 or x2 < 125:\n",
    "            continue\n",
    "        \n",
    "        # trim right lines\n",
    "        if x1 > imshape[1] - 75 or x2 > imshape[1] - 75:\n",
    "            continue\n",
    "        \n",
    "        # trim middle lines (250 - 750)\n",
    "        if y1 == imshape[0] and x1 > 250 and x1 < 750:\n",
    "            continue\n",
    "\n",
    "        if y2 == imshape[0] and x2 > 250 and x2 < 750:\n",
    "            continue\n",
    "        \n",
    "        # spike lines\n",
    "        if y1 == 0 or y2 == 0:\n",
    "            continue\n",
    "\n",
    "        m = (y2-y1)/(x2-x1)\n",
    "        # right [0.57046979865771807, 0.60070671378091878, 0.55555555555555558, 0.5821917808219178]\n",
    "        # left [-0.78341013824884798, -0.74889867841409696, -0.77272727272727271, -0.74561403508771928]\n",
    "        if m < 0 and (m < -0.8 or m > -0.6):\n",
    "            continue\n",
    "        \n",
    "        if m > 0 and (m < 0.5 or m > 0.65):\n",
    "            continue\n",
    "        \n",
    "        flines = np.append(flines, [(x1, y1, x2, y2)], axis = 0)\n",
    "\n",
    "    return np.expand_dims(flines, axis=1)\n",
    "\n",
    "\n",
    "def clean_outliers(lines, threshold = 2.):\n",
    "    med = np.median(lines, axis = 0)\n",
    "    adif = np.abs(lines - med)\n",
    "    mdev = np.median(adif, axis = 0)\n",
    "    s = np.divide(adif, mdev)\n",
    "    s[np.isnan(s)] = 0\n",
    "    return np.expand_dims(lines[np.all(np.less(s, threshold), axis = 2)], axis=1)\n",
    "            \n",
    "\n",
    "def draw_lines(img, lines, color=[255, 0, 0], thickness=10):\n",
    "    \"\"\"\n",
    "    This function draws `lines` with `color` and `thickness`.    \n",
    "    Lines are drawn on the image inplace (mutates the image).\n",
    "    If you want to make the lines semi-transparent, think about combining\n",
    "    this function with the weighted_img() function below\n",
    "    \"\"\"\n",
    "    for line in lines:\n",
    "        line[np.isnan(line)] = 0\n",
    "        x1, y1, x2, y2 = line.astype(int)\n",
    "        cv2.line(img, (x1, y1), (x2, y2), color, thickness)\n",
    "\n",
    "def hough_lines(img, rho = 2, theta = np.pi/180, threshold = 15, \n",
    "                min_line_len = 30, max_line_gap = 20):\n",
    "    \"\"\"\n",
    "    `img` should be the output of a Canny transform.\n",
    "        \n",
    "    Returns an image with hough lines drawn.\n",
    "    \"\"\"\n",
    "    lines = cv2.HoughLinesP(img, rho, theta, threshold, np.array([]), \n",
    "                            minLineLength=min_line_len, maxLineGap=max_line_gap)\n",
    "    line_img = np.zeros((*img.shape, 3), dtype=np.uint8)\n",
    "    return line_img, lines\n",
    "\n",
    "# Python 3 has support for cool math symbols.\n",
    "def weighted_img(img, initial_img, α=0.8, β=1., λ=0.):\n",
    "    \"\"\"\n",
    "    `img` is the output of the hough_lines(), An image with lines drawn on it.\n",
    "    Should be a blank image (all black) with lines drawn on it.\n",
    "    \n",
    "    `initial_img` should be the image before any processing.\n",
    "    \n",
    "    The result image is computed as follows:\n",
    "    \n",
    "    initial_img * α + img * β + λ\n",
    "    NOTE: initial_img and img must be the same shape!\n",
    "    \"\"\"\n",
    "    return cv2.addWeighted(initial_img, α, img, β, λ)"
   ]
  },
  {
   "cell_type": "code",
   "execution_count": null,
   "metadata": {
    "collapsed": true
   },
   "outputs": [],
   "source": [
    "def show_img(filename, pipeline = None):\n",
    "    image = mpimg.imread(\"test_images/\" + filename) if pipeline is None \\\n",
    "        else pipeline(mpimg.imread(\"test_images/\" + filename)) \n",
    "    #printing out some stats and plotting\n",
    "    print('This image is:', type(image), 'with dimesions:', image.shape)\n",
    "    plt.imshow(image)  #call as plt.imshow(gray, cmap='gray') to show a grayscaled image\n",
    "    plt.show()"
   ]
  },
  {
   "cell_type": "markdown",
   "metadata": {},
   "source": [
    "## Test on Images\n",
    "\n",
    "Now you should build your pipeline to work on the images in the directory \"test_images\"  \n",
    "**You should make sure your pipeline works well on these images before you try the videos.**"
   ]
  },
  {
   "cell_type": "code",
   "execution_count": null,
   "metadata": {
    "collapsed": false
   },
   "outputs": [],
   "source": [
    "import os\n",
    "os.listdir(\"test_images/\")"
   ]
  },
  {
   "cell_type": "markdown",
   "metadata": {},
   "source": [
    "run your solution on all test_images and make copies into the test_images directory)."
   ]
  },
  {
   "cell_type": "code",
   "execution_count": null,
   "metadata": {
    "collapsed": false
   },
   "outputs": [],
   "source": [
    "for filename in os.listdir(\"test_images/\"):\n",
    "    show_img(filename)"
   ]
  },
  {
   "cell_type": "code",
   "execution_count": null,
   "metadata": {
    "collapsed": false
   },
   "outputs": [],
   "source": [
    "def process_image(img):\n",
    "    imshape = img.shape\n",
    "    gray = grayscale(img)\n",
    "    blured = gaussian_blur(gray, 5)\n",
    "    cannied = canny(blured, 10, 100)\n",
    "    vertices = np.array([[\n",
    "            (100,imshape[0]),\n",
    "            (imshape[1]/2 - 50, imshape[0]/2 + 50),\n",
    "            (imshape[1]/2 + 50, imshape[0]/2 + 50), \n",
    "            (imshape[1] - 50,imshape[0])\n",
    "        ]], dtype=np.int32)\n",
    "    selected = region_of_interest(cannied, vertices)\n",
    "    \n",
    "    line_img, raw_lines = hough_lines(selected)\n",
    "    \n",
    "    #for line in raw_lines:\n",
    "    #    draw_lines(line_img, line, color=[0,0,200], thickness=2)\n",
    "    \n",
    "    extended_lines = extend_lines(raw_lines, imshape)\n",
    "    #for line in extended_lines:\n",
    "    #    draw_lines(line_img, line, color=[0,200,0], thickness=2)\n",
    "    \n",
    "    #print(\"before filtering\", extended_lines)\n",
    "    filtered_lines = filter_lines(extended_lines, imshape)\n",
    "    #for line in filtered_lines:\n",
    "    #    draw_lines(line_img, line, color=[0,100,200], thickness=3)\n",
    "    #print(\"filtered\", filtered_lines)\n",
    "\n",
    "    llines, rlines = split_left_right(filtered_lines)\n",
    "    #print(\"split left\", llines)\n",
    "    #print(\"split right\", rlines)\n",
    "    \n",
    "    llines = clean_outliers(llines)\n",
    "    #print(\"outliers left\", llines)\n",
    "    #for line in llines:\n",
    "    #    draw_lines(line_img, line, color=[200,100,0], thickness=3)\n",
    "\n",
    "    rlines = clean_outliers(rlines)\n",
    "    #print(\"outliers right\", rlines)\n",
    "    #for line in rlines:\n",
    "    #    draw_lines(line_img, line, color=[200,100,0], thickness=3)\n",
    "    \n",
    "    draw_lines(line_img, np.mean(llines, axis=0), color=[255,0,0], thickness=20)\n",
    "    draw_lines(line_img, np.mean(rlines, axis=0), color=[255,0,0], thickness=20)\n",
    "    \n",
    "    blended = weighted_img(line_img, img)\n",
    "    return blended"
   ]
  },
  {
   "cell_type": "code",
   "execution_count": null,
   "metadata": {
    "collapsed": false,
    "scrolled": false
   },
   "outputs": [],
   "source": [
    "for filename in os.listdir(\"test_images/\"):\n",
    "    show_img(filename, process_image)"
   ]
  },
  {
   "cell_type": "markdown",
   "metadata": {},
   "source": [
    "## Test on Videos\n",
    "\n",
    "You know what's cooler than drawing lanes over images? Drawing lanes over video!\n",
    "\n",
    "We can test our solution on two provided videos:\n",
    "\n",
    "`solidWhiteRight.mp4`\n",
    "\n",
    "`solidYellowLeft.mp4`"
   ]
  },
  {
   "cell_type": "code",
   "execution_count": null,
   "metadata": {
    "collapsed": false
   },
   "outputs": [],
   "source": [
    "# Import everything needed to edit/save/watch video clips\n",
    "from moviepy.editor import VideoFileClip\n",
    "from IPython.display import HTML"
   ]
  },
  {
   "cell_type": "code",
   "execution_count": null,
   "metadata": {
    "collapsed": true
   },
   "outputs": [],
   "source": []
  },
  {
   "cell_type": "markdown",
   "metadata": {},
   "source": [
    "Let's try the one with the solid white lane on the right first ..."
   ]
  },
  {
   "cell_type": "code",
   "execution_count": null,
   "metadata": {
    "collapsed": false,
    "scrolled": false
   },
   "outputs": [],
   "source": [
    "white_output = 'white.mp4'\n",
    "clip1 = VideoFileClip(\"solidWhiteRight.mp4\")\n",
    "white_clip = clip1.fl_image(process_image) #NOTE: this function expects color images!!\n",
    "%time white_clip.write_videofile(white_output, audio=False)"
   ]
  },
  {
   "cell_type": "markdown",
   "metadata": {},
   "source": [
    "Play the video inline, or if you prefer find the video in your filesystem (should be in the same directory) and play it in your video player of choice."
   ]
  },
  {
   "cell_type": "code",
   "execution_count": null,
   "metadata": {
    "collapsed": false
   },
   "outputs": [],
   "source": [
    "HTML(\"\"\"\n",
    "<video width=\"960\" height=\"540\" controls>\n",
    "  <source src=\"{0}\">\n",
    "</video>\n",
    "\"\"\".format(white_output))"
   ]
  },
  {
   "cell_type": "markdown",
   "metadata": {},
   "source": [
    "**At this point, if you were successful you probably have the Hough line segments drawn onto the road, but what about identifying the full extent of the lane and marking it clearly as in the example video (P1_example.mp4)?  Think about defining a line to run the full length of the visible lane based on the line segments you identified with the Hough Transform.  Modify your draw_lines function accordingly and try re-running your pipeline.**"
   ]
  },
  {
   "cell_type": "markdown",
   "metadata": {},
   "source": [
    "Now for the one with the solid yellow lane on the left. This one's more tricky!"
   ]
  },
  {
   "cell_type": "code",
   "execution_count": null,
   "metadata": {
    "collapsed": false,
    "scrolled": false
   },
   "outputs": [],
   "source": [
    "yellow_output = 'yellow.mp4'\n",
    "clip2 = VideoFileClip('solidYellowLeft.mp4')\n",
    "yellow_clip = clip2.fl_image(process_image)\n",
    "%time yellow_clip.write_videofile(yellow_output, audio=False)"
   ]
  },
  {
   "cell_type": "code",
   "execution_count": null,
   "metadata": {
    "collapsed": false
   },
   "outputs": [],
   "source": [
    "HTML(\"\"\"\n",
    "<video width=\"960\" height=\"540\" controls>\n",
    "  <source src=\"{0}\">\n",
    "</video>\n",
    "\"\"\".format(yellow_output))"
   ]
  },
  {
   "cell_type": "markdown",
   "metadata": {},
   "source": [
    "## Reflections\n",
    "\n",
    "Congratulations on finding the lane lines!  As the final step in this project, we would like you to share your thoughts on your lane finding pipeline... specifically, how could you imagine making your algorithm better / more robust?  Where will your current algorithm be likely to fail?\n",
    "\n",
    "Please add your thoughts below,  and if you're up for making your pipeline more robust, be sure to scroll down and check out the optional challenge video below!\n"
   ]
  },
  {
   "cell_type": "markdown",
   "metadata": {},
   "source": [
    "## Submission\n",
    "\n",
    "If you're satisfied with your video outputs it's time to submit!\n"
   ]
  },
  {
   "cell_type": "markdown",
   "metadata": {
    "collapsed": true
   },
   "source": [
    "## Optional Challenge\n",
    "\n",
    "Try your lane finding pipeline on the video below.  Does it still work?  Can you figure out a way to make it more robust?  If you're up for the challenge, modify your pipeline so it works with this video and submit it along with the rest of your project!"
   ]
  },
  {
   "cell_type": "code",
   "execution_count": null,
   "metadata": {
    "collapsed": false,
    "scrolled": false
   },
   "outputs": [],
   "source": [
    "challenge_output = 'extra.mp4'\n",
    "clip2 = VideoFileClip('challenge.mp4')\n",
    "challenge_clip = clip2.fl_image(process_image)\n",
    "%time challenge_clip.write_videofile(challenge_output, audio=False)"
   ]
  },
  {
   "cell_type": "code",
   "execution_count": null,
   "metadata": {
    "collapsed": false
   },
   "outputs": [],
   "source": [
    "HTML(\"\"\"\n",
    "<video width=\"960\" height=\"540\" controls>\n",
    "  <source src=\"{0}\">\n",
    "</video>\n",
    "\"\"\".format(challenge_output))"
   ]
  },
  {
   "cell_type": "code",
   "execution_count": null,
   "metadata": {
    "collapsed": true
   },
   "outputs": [],
   "source": []
  }
 ],
 "metadata": {
  "anaconda-cloud": {},
  "kernelspec": {
   "display_name": "Python [conda env:CarND_P1]",
   "language": "python",
   "name": "conda-env-CarND_P1-py"
  },
  "language_info": {
   "codemirror_mode": {
    "name": "ipython",
    "version": 3
   },
   "file_extension": ".py",
   "mimetype": "text/x-python",
   "name": "python",
   "nbconvert_exporter": "python",
   "pygments_lexer": "ipython3",
   "version": "3.5.2"
  }
 },
 "nbformat": 4,
 "nbformat_minor": 0
}
